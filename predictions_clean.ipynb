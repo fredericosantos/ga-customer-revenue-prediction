{
 "cells": [
  {
   "cell_type": "code",
   "execution_count": 2,
   "metadata": {},
   "outputs": [
    {
     "ename": "ModuleNotFoundError",
     "evalue": "No module named 'fastai.structured'",
     "output_type": "error",
     "traceback": [
      "\u001b[0;31m---------------------------------------------------------------------------\u001b[0m",
      "\u001b[0;31mModuleNotFoundError\u001b[0m                       Traceback (most recent call last)",
      "\u001b[0;32m<ipython-input-2-2ffb7986d9e2>\u001b[0m in \u001b[0;36m<module>\u001b[0;34m\u001b[0m\n\u001b[1;32m      4\u001b[0m \u001b[0;34m\u001b[0m\u001b[0m\n\u001b[1;32m      5\u001b[0m \u001b[0;32mfrom\u001b[0m \u001b[0mfastai\u001b[0m\u001b[0;34m.\u001b[0m\u001b[0mimports\u001b[0m \u001b[0;32mimport\u001b[0m \u001b[0;34m*\u001b[0m\u001b[0;34m\u001b[0m\u001b[0;34m\u001b[0m\u001b[0m\n\u001b[0;32m----> 6\u001b[0;31m \u001b[0;32mfrom\u001b[0m \u001b[0mfastai\u001b[0m\u001b[0;34m.\u001b[0m\u001b[0mstructured\u001b[0m \u001b[0;32mimport\u001b[0m \u001b[0;34m*\u001b[0m\u001b[0;34m\u001b[0m\u001b[0;34m\u001b[0m\u001b[0m\n\u001b[0m\u001b[1;32m      7\u001b[0m \u001b[0;32mfrom\u001b[0m \u001b[0mpandas_summary\u001b[0m \u001b[0;32mimport\u001b[0m \u001b[0mDataFrameSummary\u001b[0m\u001b[0;34m\u001b[0m\u001b[0;34m\u001b[0m\u001b[0m\n\u001b[1;32m      8\u001b[0m \u001b[0;32mfrom\u001b[0m \u001b[0msklearn\u001b[0m\u001b[0;34m.\u001b[0m\u001b[0mensemble\u001b[0m \u001b[0;32mimport\u001b[0m \u001b[0mRandomForestRegressor\u001b[0m\u001b[0;34m,\u001b[0m \u001b[0mRandomForestClassifier\u001b[0m\u001b[0;34m\u001b[0m\u001b[0;34m\u001b[0m\u001b[0m\n",
      "\u001b[0;31mModuleNotFoundError\u001b[0m: No module named 'fastai.structured'"
     ]
    }
   ],
   "source": [
    "%load_ext autoreload\n",
    "%autoreload 2\n",
    "%matplotlib inline\n",
    "\n",
    "from fastai.imports import *\n",
    "from fastai.structured import *\n",
    "from pandas_summary import DataFrameSummary\n",
    "from sklearn.ensemble import RandomForestRegressor, RandomForestClassifier\n",
    "from IPython.display import display\n",
    "from sklearn import metrics\n",
    "import json\n",
    "import multiprocessing\n",
    "\n",
    "pd.set_option('display.max_columns', 500)\n",
    "pd.set_option('display.max_row', 1000)\n",
    "\n",
    "# define train or test\n",
    "df_type = 'train'"
   ]
  },
  {
   "cell_type": "markdown",
   "metadata": {},
   "source": [
    "# First Work"
   ]
  },
  {
   "cell_type": "code",
   "execution_count": 2,
   "metadata": {},
   "outputs": [],
   "source": [
    "types = {'fullVisitorId': 'str'}"
   ]
  },
  {
   "cell_type": "code",
   "execution_count": 3,
   "metadata": {},
   "outputs": [],
   "source": [
    "cols_to_parse = ['device', 'geoNetwork', 'totals', 'trafficSource']"
   ]
  },
  {
   "cell_type": "code",
   "execution_count": 4,
   "metadata": {
    "scrolled": true
   },
   "outputs": [],
   "source": [
    "# Load csv\n",
    "df = pd.DataFrame()\n",
    "for chunk in pd.read_csv(df_type + '_v2.csv',\n",
    "                         iterator=True,\n",
    "                         parse_dates=['visitStartTime'],\n",
    "                         dtype=types,\n",
    "                         converters={column: json.loads for column in cols_to_parse},\n",
    "                         chunksize=10 ** 6,\n",
    "                         nrows=50000):\n",
    "    chunk.drop(['hits', 'customDimensions'], axis=1, inplace=True)\n",
    "    df = pd.concat([df, chunk])\n",
    "    del chunk"
   ]
  },
  {
   "cell_type": "code",
   "execution_count": null,
   "metadata": {},
   "outputs": [],
   "source": [
    "# df.to_csv('train_v2_clean.csv', index=False)"
   ]
  },
  {
   "cell_type": "code",
   "execution_count": null,
   "metadata": {},
   "outputs": [],
   "source": [
    "# df = pd.read_csv('train_v2_clean.csv',\n",
    "#                  parse_dates=['visitStartTime'], \n",
    "#                  dtype=types\n",
    "#                 )"
   ]
  },
  {
   "cell_type": "code",
   "execution_count": 5,
   "metadata": {},
   "outputs": [],
   "source": [
    "def dict_to_col(ctp=cols_to_parse, df=df, str_rmv=['not available in demo dataset', '(not set)', '(not provided)']):\n",
    "    for each in ctp:\n",
    "#         series = df[each].map(eval).apply(pd.Series)\n",
    "        series = df[each].apply(pd.Series)\n",
    "        for strings in str_rmv:\n",
    "            series = series.replace({strings: None})\n",
    "        series.dropna(axis='columns', how='all', inplace=True)\n",
    "        print(each, 'done')\n",
    "        df = df.drop(columns=[each]).join(series)\n",
    "        del series\n",
    "    return df"
   ]
  },
  {
   "cell_type": "code",
   "execution_count": 8,
   "metadata": {},
   "outputs": [],
   "source": [
    "# Was a good try!\n",
    "def multi_dict_to_col(each, df=df, str_rmv=['not available in demo dataset', '(not set)', '(not provided)']):\n",
    "    series = df[each].apply(pd.Series)\n",
    "    for strings in str_rmv:\n",
    "        series = series.replace({strings: None})\n",
    "    series.dropna(axis='columns', how='all', inplace=True)\n",
    "    print(each, 'done')\n",
    "    return series\n",
    "# df = df.join(multiprocessing.Pool().map(multi_dict_to_col, cols_to_parse))"
   ]
  },
  {
   "cell_type": "code",
   "execution_count": 6,
   "metadata": {},
   "outputs": [
    {
     "name": "stdout",
     "output_type": "stream",
     "text": [
      "device done\n",
      "geoNetwork done\n",
      "totals done\n",
      "trafficSource done\n"
     ]
    }
   ],
   "source": [
    "df = dict_to_col()\n",
    "# df.drop(columns=cols_to_parse, inplace=True)\n",
    "df.drop(columns=['adwordsClickInfo'], inplace=True)"
   ]
  },
  {
   "cell_type": "code",
   "execution_count": null,
   "metadata": {},
   "outputs": [],
   "source": [
    "os.makedirs('tmp', exist_ok=True)\n",
    "# df.to_feather('tmp/1' + df_type)"
   ]
  },
  {
   "cell_type": "code",
   "execution_count": 5,
   "metadata": {},
   "outputs": [
    {
     "name": "stderr",
     "output_type": "stream",
     "text": [
      "/home/fsx/anaconda3/lib/python3.6/site-packages/pandas/io/feather_format.py:112: FutureWarning: `nthreads` argument is deprecated, pass `use_threads` instead\n",
      "  return feather.read_dataframe(path, nthreads=nthreads)\n"
     ]
    }
   ],
   "source": [
    "df = pd.read_feather('tmp/1' + df_type)"
   ]
  },
  {
   "cell_type": "code",
   "execution_count": null,
   "metadata": {},
   "outputs": [],
   "source": [
    "def rm_datepart(df, column_name, reconstruct=True):\n",
    "    '''Reverts add_datepart\n",
    "    column_name -> \n",
    "    '''\n",
    "    columns=['Year',\n",
    "             'Month',\n",
    "             'Week',\n",
    "             'Day',\n",
    "             'Dayofweek',\n",
    "             'Dayofyear',\n",
    "             'Is_month_end',\n",
    "             'Is_month_start',\n",
    "             'Is_quarter_end',\n",
    "             'Is_quarter_start',\n",
    "             'Is_year_end',\n",
    "             'Is_year_start',\n",
    "             'Hour',\n",
    "             'Minute',\n",
    "             'Second',\n",
    "             'Elapsed'\n",
    "            ]\n",
    "    original = column_name\n",
    "    column_name = re.sub('[Dd]ate$', '', column_name)\n",
    "    if reconstruct: df[original] = pd.to_datetime(df[str(column_name+'Elapsed')], unit='s')\n",
    "    for col in columns:\n",
    "        if str(column_name+col) in df: df.drop(columns=[str(column_name+col)], inplace=True)\n",
    "    return\n",
    "# Do function that reverts add_datepart"
   ]
  },
  {
   "cell_type": "code",
   "execution_count": 7,
   "metadata": {},
   "outputs": [],
   "source": [
    "df.fillna(value=np.nan, inplace=True)\n",
    "df.keyword.replace('(not provided)', np.nan, inplace=True)\n",
    "df.keyword = df.keyword.str.encode('utf_8', errors='ignore').str.decode('utf_8')\n",
    "df.networkDomain.replace('unknown.unknown', np.nan, inplace=True)\n",
    "df.replace('(not set)', np.nan, inplace=True)\n",
    "df['visitStartTime'] = pd.to_datetime(df.visitStartTime, unit='s')\n",
    "add_datepart(df, 'visitStartTime', time=True)\n",
    "df.channelGrouping.replace('(Other)', None, inplace=True)\n",
    "df.medium.replace('(none)', None, inplace=True)\n",
    "df.totalTransactionRevenue = df.totalTransactionRevenue.fillna(0).astype(int)\n",
    "df.transactions = df.transactions.fillna(0).astype(int)"
   ]
  },
  {
   "cell_type": "code",
   "execution_count": 8,
   "metadata": {},
   "outputs": [],
   "source": [
    "df.to_feather('tmp/2' + df_type)"
   ]
  },
  {
   "cell_type": "code",
   "execution_count": 9,
   "metadata": {},
   "outputs": [
    {
     "name": "stderr",
     "output_type": "stream",
     "text": [
      "/home/fsx/anaconda3/lib/python3.6/site-packages/pandas/io/feather_format.py:112: FutureWarning: `nthreads` argument is deprecated, pass `use_threads` instead\n",
      "  return feather.read_dataframe(path, nthreads=nthreads)\n"
     ]
    }
   ],
   "source": [
    "df = pd.read_feather('tmp/2' + df_type)"
   ]
  },
  {
   "cell_type": "code",
   "execution_count": 10,
   "metadata": {},
   "outputs": [],
   "source": [
    "df['campaign'] = df.campaign.notnull()\n",
    "df['bounces'] = df.bounces.notnull()\n",
    "df['newVisits'] = df.newVisits.notnull()\n",
    "df['referralPath'] = df.referralPath.notnull()\n",
    "df['isTrueDirect'] = df.isTrueDirect.notnull()\n",
    "df['adContent'] = df.adContent.notnull().astype(bool)"
   ]
  },
  {
   "cell_type": "code",
   "execution_count": 11,
   "metadata": {},
   "outputs": [],
   "source": [
    "df.to_feather('tmp/3' + df_type)"
   ]
  },
  {
   "cell_type": "code",
   "execution_count": 17,
   "metadata": {},
   "outputs": [
    {
     "name": "stderr",
     "output_type": "stream",
     "text": [
      "/home/fsx/anaconda3/lib/python3.6/site-packages/pandas/io/feather_format.py:112: FutureWarning: `nthreads` argument is deprecated, pass `use_threads` instead\n",
      "  return feather.read_dataframe(path, nthreads=nthreads)\n"
     ]
    }
   ],
   "source": [
    "df = pd.read_feather('tmp/3' + df_type)"
   ]
  },
  {
   "cell_type": "code",
   "execution_count": 18,
   "metadata": {},
   "outputs": [],
   "source": [
    "columns = ['browser', 'operatingSystem']\n",
    "for col in columns:\n",
    "    cutoff = df[col].value_counts() < 1000\n",
    "    cutoff = cutoff[cutoff]\n",
    "    cutoff = cutoff.reset_index()['index']\n",
    "\n",
    "    for i in cutoff:\n",
    "        df.loc[df[col] == i, col] = 'Other'"
   ]
  },
  {
   "cell_type": "code",
   "execution_count": 19,
   "metadata": {},
   "outputs": [],
   "source": [
    "df.to_feather('tmp/4' + df_type)"
   ]
  },
  {
   "cell_type": "code",
   "execution_count": 20,
   "metadata": {},
   "outputs": [
    {
     "name": "stderr",
     "output_type": "stream",
     "text": [
      "/home/fsx/anaconda3/lib/python3.6/site-packages/pandas/io/feather_format.py:112: FutureWarning: `nthreads` argument is deprecated, pass `use_threads` instead\n",
      "  return feather.read_dataframe(path, nthreads=nthreads)\n"
     ]
    }
   ],
   "source": [
    "df = pd.read_feather('tmp/4' + df_type)"
   ]
  },
  {
   "cell_type": "code",
   "execution_count": 21,
   "metadata": {},
   "outputs": [],
   "source": [
    "df['hits'] = df.hits.astype(int)\n",
    "df.pageviews.fillna(0, inplace=True)\n",
    "# df['pageviews'] = df.pageviews.astype(str).astype(int)\n",
    "df['pageviews'] = df.pageviews.astype(float)"
   ]
  },
  {
   "cell_type": "code",
   "execution_count": 22,
   "metadata": {},
   "outputs": [],
   "source": [
    "df.drop(columns=[\n",
    "    'date',\n",
    "    'visitStartTimeMinute',\n",
    "    'visitStartTimeSecond',\n",
    "    'socialEngagementType',\n",
    "    'medium',\n",
    "    'visitId',\n",
    "    'visits',\n",
    "    'transactionRevenue',\n",
    "    'deviceCategory',\n",
    "    'continent',\n",
    "    'subContinent',\n",
    "    'networkDomain',\n",
    "    'source'\n",
    "], inplace=True)"
   ]
  },
  {
   "cell_type": "code",
   "execution_count": 23,
   "metadata": {
    "scrolled": true
   },
   "outputs": [
    {
     "data": {
      "text/html": [
       "<div>\n",
       "<style scoped>\n",
       "    .dataframe tbody tr th:only-of-type {\n",
       "        vertical-align: middle;\n",
       "    }\n",
       "\n",
       "    .dataframe tbody tr th {\n",
       "        vertical-align: top;\n",
       "    }\n",
       "\n",
       "    .dataframe thead th {\n",
       "        text-align: right;\n",
       "    }\n",
       "</style>\n",
       "<table border=\"1\" class=\"dataframe\">\n",
       "  <thead>\n",
       "    <tr style=\"text-align: right;\">\n",
       "      <th></th>\n",
       "      <th>channelGrouping</th>\n",
       "      <th>fullVisitorId</th>\n",
       "      <th>visitNumber</th>\n",
       "      <th>browser</th>\n",
       "      <th>operatingSystem</th>\n",
       "      <th>isMobile</th>\n",
       "      <th>deviceCategory</th>\n",
       "      <th>continent</th>\n",
       "      <th>subContinent</th>\n",
       "      <th>country</th>\n",
       "      <th>region</th>\n",
       "      <th>metro</th>\n",
       "      <th>city</th>\n",
       "      <th>networkDomain</th>\n",
       "      <th>hits</th>\n",
       "      <th>pageviews</th>\n",
       "      <th>bounces</th>\n",
       "      <th>newVisits</th>\n",
       "      <th>sessionQualityDim</th>\n",
       "      <th>timeOnSite</th>\n",
       "      <th>transactions</th>\n",
       "      <th>totalTransactionRevenue</th>\n",
       "      <th>campaign</th>\n",
       "      <th>source</th>\n",
       "      <th>keyword</th>\n",
       "      <th>referralPath</th>\n",
       "      <th>isTrueDirect</th>\n",
       "      <th>adContent</th>\n",
       "      <th>visitStartTimeYear</th>\n",
       "      <th>visitStartTimeMonth</th>\n",
       "      <th>visitStartTimeWeek</th>\n",
       "      <th>visitStartTimeDay</th>\n",
       "      <th>visitStartTimeDayofweek</th>\n",
       "      <th>visitStartTimeDayofyear</th>\n",
       "      <th>visitStartTimeIs_month_end</th>\n",
       "      <th>visitStartTimeIs_month_start</th>\n",
       "      <th>visitStartTimeIs_quarter_end</th>\n",
       "      <th>visitStartTimeIs_quarter_start</th>\n",
       "      <th>visitStartTimeIs_year_end</th>\n",
       "      <th>visitStartTimeIs_year_start</th>\n",
       "      <th>visitStartTimeHour</th>\n",
       "      <th>visitStartTimeElapsed</th>\n",
       "    </tr>\n",
       "  </thead>\n",
       "  <tbody>\n",
       "    <tr>\n",
       "      <th>0</th>\n",
       "      <td>Organic Search</td>\n",
       "      <td>3162355547410993243</td>\n",
       "      <td>1</td>\n",
       "      <td>Firefox</td>\n",
       "      <td>Windows</td>\n",
       "      <td>False</td>\n",
       "      <td>desktop</td>\n",
       "      <td>Europe</td>\n",
       "      <td>Western Europe</td>\n",
       "      <td>Germany</td>\n",
       "      <td>None</td>\n",
       "      <td>None</td>\n",
       "      <td>None</td>\n",
       "      <td>None</td>\n",
       "      <td>1</td>\n",
       "      <td>1.0</td>\n",
       "      <td>True</td>\n",
       "      <td>True</td>\n",
       "      <td>1</td>\n",
       "      <td>None</td>\n",
       "      <td>0</td>\n",
       "      <td>0</td>\n",
       "      <td>False</td>\n",
       "      <td>google</td>\n",
       "      <td>water bottle</td>\n",
       "      <td>False</td>\n",
       "      <td>False</td>\n",
       "      <td>False</td>\n",
       "      <td>2017</td>\n",
       "      <td>10</td>\n",
       "      <td>42</td>\n",
       "      <td>17</td>\n",
       "      <td>1</td>\n",
       "      <td>290</td>\n",
       "      <td>False</td>\n",
       "      <td>False</td>\n",
       "      <td>False</td>\n",
       "      <td>False</td>\n",
       "      <td>False</td>\n",
       "      <td>False</td>\n",
       "      <td>0</td>\n",
       "      <td>1508198450</td>\n",
       "    </tr>\n",
       "    <tr>\n",
       "      <th>1</th>\n",
       "      <td>Referral</td>\n",
       "      <td>8934116514970143966</td>\n",
       "      <td>6</td>\n",
       "      <td>Chrome</td>\n",
       "      <td>Chrome OS</td>\n",
       "      <td>False</td>\n",
       "      <td>desktop</td>\n",
       "      <td>Americas</td>\n",
       "      <td>Northern America</td>\n",
       "      <td>United States</td>\n",
       "      <td>California</td>\n",
       "      <td>San Francisco-Oakland-San Jose CA</td>\n",
       "      <td>Cupertino</td>\n",
       "      <td>None</td>\n",
       "      <td>2</td>\n",
       "      <td>2.0</td>\n",
       "      <td>False</td>\n",
       "      <td>False</td>\n",
       "      <td>2</td>\n",
       "      <td>28</td>\n",
       "      <td>0</td>\n",
       "      <td>0</td>\n",
       "      <td>False</td>\n",
       "      <td>sites.google.com</td>\n",
       "      <td>None</td>\n",
       "      <td>True</td>\n",
       "      <td>False</td>\n",
       "      <td>False</td>\n",
       "      <td>2017</td>\n",
       "      <td>10</td>\n",
       "      <td>42</td>\n",
       "      <td>16</td>\n",
       "      <td>0</td>\n",
       "      <td>289</td>\n",
       "      <td>False</td>\n",
       "      <td>False</td>\n",
       "      <td>False</td>\n",
       "      <td>False</td>\n",
       "      <td>False</td>\n",
       "      <td>False</td>\n",
       "      <td>17</td>\n",
       "      <td>1508176307</td>\n",
       "    </tr>\n",
       "    <tr>\n",
       "      <th>2</th>\n",
       "      <td>Direct</td>\n",
       "      <td>7992466427990357681</td>\n",
       "      <td>1</td>\n",
       "      <td>Chrome</td>\n",
       "      <td>Android</td>\n",
       "      <td>True</td>\n",
       "      <td>mobile</td>\n",
       "      <td>Americas</td>\n",
       "      <td>Northern America</td>\n",
       "      <td>United States</td>\n",
       "      <td>None</td>\n",
       "      <td>None</td>\n",
       "      <td>None</td>\n",
       "      <td>windjammercable.net</td>\n",
       "      <td>2</td>\n",
       "      <td>2.0</td>\n",
       "      <td>False</td>\n",
       "      <td>True</td>\n",
       "      <td>1</td>\n",
       "      <td>38</td>\n",
       "      <td>0</td>\n",
       "      <td>0</td>\n",
       "      <td>False</td>\n",
       "      <td>(direct)</td>\n",
       "      <td>None</td>\n",
       "      <td>False</td>\n",
       "      <td>True</td>\n",
       "      <td>False</td>\n",
       "      <td>2017</td>\n",
       "      <td>10</td>\n",
       "      <td>42</td>\n",
       "      <td>17</td>\n",
       "      <td>1</td>\n",
       "      <td>290</td>\n",
       "      <td>False</td>\n",
       "      <td>False</td>\n",
       "      <td>False</td>\n",
       "      <td>False</td>\n",
       "      <td>False</td>\n",
       "      <td>False</td>\n",
       "      <td>0</td>\n",
       "      <td>1508201613</td>\n",
       "    </tr>\n",
       "    <tr>\n",
       "      <th>3</th>\n",
       "      <td>Organic Search</td>\n",
       "      <td>9075655783635761930</td>\n",
       "      <td>1</td>\n",
       "      <td>Chrome</td>\n",
       "      <td>Windows</td>\n",
       "      <td>False</td>\n",
       "      <td>desktop</td>\n",
       "      <td>Asia</td>\n",
       "      <td>Western Asia</td>\n",
       "      <td>Turkey</td>\n",
       "      <td>None</td>\n",
       "      <td>None</td>\n",
       "      <td>None</td>\n",
       "      <td>None</td>\n",
       "      <td>2</td>\n",
       "      <td>2.0</td>\n",
       "      <td>False</td>\n",
       "      <td>True</td>\n",
       "      <td>1</td>\n",
       "      <td>1</td>\n",
       "      <td>0</td>\n",
       "      <td>0</td>\n",
       "      <td>False</td>\n",
       "      <td>google</td>\n",
       "      <td>None</td>\n",
       "      <td>False</td>\n",
       "      <td>False</td>\n",
       "      <td>False</td>\n",
       "      <td>2017</td>\n",
       "      <td>10</td>\n",
       "      <td>42</td>\n",
       "      <td>16</td>\n",
       "      <td>0</td>\n",
       "      <td>289</td>\n",
       "      <td>False</td>\n",
       "      <td>False</td>\n",
       "      <td>False</td>\n",
       "      <td>False</td>\n",
       "      <td>False</td>\n",
       "      <td>False</td>\n",
       "      <td>16</td>\n",
       "      <td>1508169851</td>\n",
       "    </tr>\n",
       "    <tr>\n",
       "      <th>4</th>\n",
       "      <td>Organic Search</td>\n",
       "      <td>6960673291025684308</td>\n",
       "      <td>1</td>\n",
       "      <td>Chrome</td>\n",
       "      <td>Windows</td>\n",
       "      <td>False</td>\n",
       "      <td>desktop</td>\n",
       "      <td>Americas</td>\n",
       "      <td>Central America</td>\n",
       "      <td>Mexico</td>\n",
       "      <td>None</td>\n",
       "      <td>None</td>\n",
       "      <td>None</td>\n",
       "      <td>prod-infinitum.com.mx</td>\n",
       "      <td>2</td>\n",
       "      <td>2.0</td>\n",
       "      <td>False</td>\n",
       "      <td>True</td>\n",
       "      <td>1</td>\n",
       "      <td>52</td>\n",
       "      <td>0</td>\n",
       "      <td>0</td>\n",
       "      <td>False</td>\n",
       "      <td>google</td>\n",
       "      <td>None</td>\n",
       "      <td>False</td>\n",
       "      <td>False</td>\n",
       "      <td>False</td>\n",
       "      <td>2017</td>\n",
       "      <td>10</td>\n",
       "      <td>42</td>\n",
       "      <td>16</td>\n",
       "      <td>0</td>\n",
       "      <td>289</td>\n",
       "      <td>False</td>\n",
       "      <td>False</td>\n",
       "      <td>False</td>\n",
       "      <td>False</td>\n",
       "      <td>False</td>\n",
       "      <td>False</td>\n",
       "      <td>21</td>\n",
       "      <td>1508190552</td>\n",
       "    </tr>\n",
       "  </tbody>\n",
       "</table>\n",
       "</div>"
      ],
      "text/plain": [
       "  channelGrouping        fullVisitorId  visitNumber  browser operatingSystem  \\\n",
       "0  Organic Search  3162355547410993243            1  Firefox         Windows   \n",
       "1        Referral  8934116514970143966            6   Chrome       Chrome OS   \n",
       "2          Direct  7992466427990357681            1   Chrome         Android   \n",
       "3  Organic Search  9075655783635761930            1   Chrome         Windows   \n",
       "4  Organic Search  6960673291025684308            1   Chrome         Windows   \n",
       "\n",
       "   isMobile deviceCategory continent      subContinent        country  \\\n",
       "0     False        desktop    Europe    Western Europe        Germany   \n",
       "1     False        desktop  Americas  Northern America  United States   \n",
       "2      True         mobile  Americas  Northern America  United States   \n",
       "3     False        desktop      Asia      Western Asia         Turkey   \n",
       "4     False        desktop  Americas   Central America         Mexico   \n",
       "\n",
       "       region                              metro       city  \\\n",
       "0        None                               None       None   \n",
       "1  California  San Francisco-Oakland-San Jose CA  Cupertino   \n",
       "2        None                               None       None   \n",
       "3        None                               None       None   \n",
       "4        None                               None       None   \n",
       "\n",
       "           networkDomain  hits  pageviews  bounces  newVisits  \\\n",
       "0                   None     1        1.0     True       True   \n",
       "1                   None     2        2.0    False      False   \n",
       "2    windjammercable.net     2        2.0    False       True   \n",
       "3                   None     2        2.0    False       True   \n",
       "4  prod-infinitum.com.mx     2        2.0    False       True   \n",
       "\n",
       "  sessionQualityDim timeOnSite  transactions  totalTransactionRevenue  \\\n",
       "0                 1       None             0                        0   \n",
       "1                 2         28             0                        0   \n",
       "2                 1         38             0                        0   \n",
       "3                 1          1             0                        0   \n",
       "4                 1         52             0                        0   \n",
       "\n",
       "   campaign            source       keyword  referralPath  isTrueDirect  \\\n",
       "0     False            google  water bottle         False         False   \n",
       "1     False  sites.google.com          None          True         False   \n",
       "2     False          (direct)          None         False          True   \n",
       "3     False            google          None         False         False   \n",
       "4     False            google          None         False         False   \n",
       "\n",
       "   adContent  visitStartTimeYear  visitStartTimeMonth  visitStartTimeWeek  \\\n",
       "0      False                2017                   10                  42   \n",
       "1      False                2017                   10                  42   \n",
       "2      False                2017                   10                  42   \n",
       "3      False                2017                   10                  42   \n",
       "4      False                2017                   10                  42   \n",
       "\n",
       "   visitStartTimeDay  visitStartTimeDayofweek  visitStartTimeDayofyear  \\\n",
       "0                 17                        1                      290   \n",
       "1                 16                        0                      289   \n",
       "2                 17                        1                      290   \n",
       "3                 16                        0                      289   \n",
       "4                 16                        0                      289   \n",
       "\n",
       "   visitStartTimeIs_month_end  visitStartTimeIs_month_start  \\\n",
       "0                       False                         False   \n",
       "1                       False                         False   \n",
       "2                       False                         False   \n",
       "3                       False                         False   \n",
       "4                       False                         False   \n",
       "\n",
       "   visitStartTimeIs_quarter_end  visitStartTimeIs_quarter_start  \\\n",
       "0                         False                           False   \n",
       "1                         False                           False   \n",
       "2                         False                           False   \n",
       "3                         False                           False   \n",
       "4                         False                           False   \n",
       "\n",
       "   visitStartTimeIs_year_end  visitStartTimeIs_year_start  visitStartTimeHour  \\\n",
       "0                      False                        False                   0   \n",
       "1                      False                        False                  17   \n",
       "2                      False                        False                   0   \n",
       "3                      False                        False                  16   \n",
       "4                      False                        False                  21   \n",
       "\n",
       "   visitStartTimeElapsed  \n",
       "0             1508198450  \n",
       "1             1508176307  \n",
       "2             1508201613  \n",
       "3             1508169851  \n",
       "4             1508190552  "
      ]
     },
     "execution_count": 23,
     "metadata": {},
     "output_type": "execute_result"
    }
   ],
   "source": [
    "df.head()"
   ]
  },
  {
   "cell_type": "code",
   "execution_count": 24,
   "metadata": {},
   "outputs": [],
   "source": [
    "df.to_feather('tmp/5' + df_type)"
   ]
  },
  {
   "cell_type": "markdown",
   "metadata": {},
   "source": [
    "# EDA"
   ]
  },
  {
   "cell_type": "code",
   "execution_count": 25,
   "metadata": {},
   "outputs": [],
   "source": [
    "df_type = 'train'"
   ]
  },
  {
   "cell_type": "code",
   "execution_count": 48,
   "metadata": {},
   "outputs": [
    {
     "name": "stderr",
     "output_type": "stream",
     "text": [
      "/home/fsx/anaconda3/lib/python3.6/site-packages/pandas/io/feather_format.py:112: FutureWarning: `nthreads` argument is deprecated, pass `use_threads` instead\n",
      "  return feather.read_dataframe(path, nthreads=nthreads)\n"
     ]
    }
   ],
   "source": [
    "df = pd.read_feather('tmp/5' + df_type)"
   ]
  },
  {
   "cell_type": "code",
   "execution_count": 49,
   "metadata": {},
   "outputs": [],
   "source": [
    "df = df.sort_values('visitStartTimeElapsed').reset_index(drop=True)"
   ]
  },
  {
   "cell_type": "code",
   "execution_count": 50,
   "metadata": {},
   "outputs": [],
   "source": [
    "columns = ['hits', 'pageviews', 'totalTransactionRevenue', 'transactions']\n",
    "# if df_type == 'train': columns.append('transactionRevenue')\n",
    "for col in columns:\n",
    "    _sum = str(col) + '_sum'\n",
    "    df[_sum] = df.groupby('fullVisitorId')[col].transform(pd.Series.cumsum)"
   ]
  },
  {
   "cell_type": "code",
   "execution_count": 51,
   "metadata": {},
   "outputs": [],
   "source": [
    "df.totalTransactionRevenue.fillna(value=0.0, inplace=True)\n",
    "df.totalTransactionRevenue = np.log1p(df.totalTransactionRevenue.astype(float))\n",
    "df.totalTransactionRevenue_sum.fillna(value=0.0, inplace=True)\n",
    "df.totalTransactionRevenue_sum = np.log1p(df.totalTransactionRevenue_sum.astype(float))"
   ]
  },
  {
   "cell_type": "code",
   "execution_count": 52,
   "metadata": {},
   "outputs": [],
   "source": [
    "type_customer_mean = df.totalTransactionRevenue_sum.groupby(df.fullVisitorId).max()\n",
    "type_customer_mean = type_customer_mean[type_customer_mean > 0].mean()\n",
    "type_customer_whale = type_customer_mean * 1.5\n",
    "df['type_customer'] = pd.cut(df.totalTransactionRevenue_sum,\n",
    "                             bins=[0.0, 0.0001, type_customer_whale, 1000000],\n",
    "                             include_lowest=True,\n",
    "                             labels=['first_timer', 'returning', 'whale'])"
   ]
  },
  {
   "cell_type": "code",
   "execution_count": 53,
   "metadata": {},
   "outputs": [],
   "source": [
    "df.type_customer = df.type_customer.cat.add_categories(['lookers'])\n",
    "df.type_customer[(df.visitNumber > 1) & (df.type_customer == 'first_timer')] = 'lookers'"
   ]
  },
  {
   "cell_type": "code",
   "execution_count": 54,
   "metadata": {},
   "outputs": [],
   "source": [
    "df_train = df.copy()"
   ]
  },
  {
   "cell_type": "code",
   "execution_count": 55,
   "metadata": {},
   "outputs": [],
   "source": [
    "# subset = df_train.sample(frac=0.85)\n",
    "# subset.totalTransactionRevenue = 35050\n",
    "# df_train.update(subset)\n",
    "# df_train.totalTransactionRevenue.replace(35050, np.nan, inplace=True)\n",
    "# df_train.loc[:, 'type_customer'][df_train.totalTransactionRevenue.isnull()] = np.nan"
   ]
  },
  {
   "cell_type": "code",
   "execution_count": 56,
   "metadata": {},
   "outputs": [],
   "source": [
    "df.to_feather('tmp/5.5' + df_type)"
   ]
  },
  {
   "cell_type": "code",
   "execution_count": 57,
   "metadata": {},
   "outputs": [],
   "source": [
    "df_type = 'train'"
   ]
  },
  {
   "cell_type": "code",
   "execution_count": 68,
   "metadata": {
    "scrolled": true
   },
   "outputs": [
    {
     "name": "stderr",
     "output_type": "stream",
     "text": [
      "/home/fsx/anaconda3/lib/python3.6/site-packages/pandas/io/feather_format.py:112: FutureWarning: `nthreads` argument is deprecated, pass `use_threads` instead\n",
      "  return feather.read_dataframe(path, nthreads=nthreads)\n"
     ]
    }
   ],
   "source": [
    "df = pd.read_feather('tmp/5.5' + df_type)"
   ]
  },
  {
   "cell_type": "code",
   "execution_count": 69,
   "metadata": {},
   "outputs": [],
   "source": [
    "df = df.sample(frac=1).reset_index(drop=True)"
   ]
  },
  {
   "cell_type": "code",
   "execution_count": 70,
   "metadata": {},
   "outputs": [],
   "source": [
    "fullVis = df.fullVisitorId\n",
    "df.drop(columns=['fullVisitorId', 'visitStartTimeElapsed', 'transactions'], inplace=True)"
   ]
  },
  {
   "cell_type": "markdown",
   "metadata": {},
   "source": [
    "# Train"
   ]
  },
  {
   "cell_type": "code",
   "execution_count": 71,
   "metadata": {},
   "outputs": [],
   "source": [
    "train_cats(df)"
   ]
  },
  {
   "cell_type": "code",
   "execution_count": 72,
   "metadata": {},
   "outputs": [],
   "source": [
    "# if df_type == 'test':\n",
    "#     df['transactionRevenue'] = 0.0\n",
    "df1, y, nas = proc_df(df, 'totalTransactionRevenue', max_n_cat=5)\n",
    "# if df_type == 'test': df1['operatingSystem_Windows Phone'] = 0"
   ]
  },
  {
   "cell_type": "code",
   "execution_count": 73,
   "metadata": {},
   "outputs": [],
   "source": [
    "def split_vals(a,n): return a[:n].copy(), a[n:].copy()\n",
    "\n",
    "# For train set\n",
    "if df_type == 'train':\n",
    "    n_valid = 0.7\n",
    "    n_trn = int(len(df1)*n_valid)\n",
    "    raw_train, raw_valid = split_vals(df, n_trn)\n",
    "    X_train, X_valid = split_vals(df1, n_trn)\n",
    "    y_train, y_valid = split_vals(y, n_trn)\n",
    "\n",
    "    X_train.shape, y_train.shape, X_valid.shape"
   ]
  },
  {
   "cell_type": "code",
   "execution_count": 74,
   "metadata": {},
   "outputs": [],
   "source": [
    "def rmse(x,y): return math.sqrt(((x-y)**2).mean())\n",
    "\n",
    "def print_score(m):\n",
    "    res = [rmse(m.predict(X_train), y_train), rmse(m.predict(X_valid), y_valid),\n",
    "                m.score(X_train, y_train), m.score(X_valid, y_valid)]\n",
    "    if hasattr(m, 'oob_score_'): res.append(m.oob_score_)\n",
    "    print(res)"
   ]
  },
  {
   "cell_type": "code",
   "execution_count": 75,
   "metadata": {},
   "outputs": [
    {
     "name": "stdout",
     "output_type": "stream",
     "text": [
      "[0.48236564061098036, 0.4135320755257812, 0.9225498178710766, 0.9437375790553065, 0.9197648418204123]\n"
     ]
    }
   ],
   "source": [
    "m = RandomForestRegressor(n_estimators=50, min_samples_leaf=50, max_features=0.5, n_jobs=-1, oob_score=True)\n",
    "m.fit(X_train, y_train)\n",
    "print_score(m)"
   ]
  },
  {
   "cell_type": "code",
   "execution_count": null,
   "metadata": {},
   "outputs": [],
   "source": [
    "# Train\n",
    "df1.columns"
   ]
  },
  {
   "cell_type": "markdown",
   "metadata": {
    "heading_collapsed": true
   },
   "source": [
    "# Submit"
   ]
  },
  {
   "cell_type": "code",
   "execution_count": null,
   "metadata": {
    "hidden": true,
    "scrolled": false
   },
   "outputs": [],
   "source": [
    "if df_type == 'test':\n",
    "    PredictedLogRevenue = m.predict(df1)\n",
    "#     submissions = pd.DataFrame(df['fullVisitorId'].str[3:])\n",
    "    submissions = pd.DataFrame(fullVis.str[3:])\n",
    "    submissions['PredictedLogRevenue'] = np.expm1(PredictedLogRevenue)\n",
    "    grouped = np.log1p(submissions.groupby('fullVisitorId').sum()).reset_index()\n",
    "    filename = 'submission_' + str(time.time()) + '.csv'\n",
    "    grouped.to_csv(filename, index=False)\n",
    "    print(filename)\n",
    "    \n",
    "    submissions = pd.DataFrame(fullVis.str[3:])\n",
    "    submissions['PredictedLogRevenue'] = PredictedLogRevenue\n",
    "    grouped = submissions.groupby('fullVisitorId').sum().reset_index()\n",
    "    filename = 'submission_' + str(time.time()) + '.csv'\n",
    "    grouped.to_csv(filename, index=False)\n",
    "    print(filename)"
   ]
  },
  {
   "cell_type": "code",
   "execution_count": null,
   "metadata": {
    "hidden": true
   },
   "outputs": [],
   "source": [
    "if df_type == 'test':\n",
    "#     !kaggle competitions submit -c ga-customer-revenue-prediction -f 'submission_1541472945.9338593.csv' -m \"Log of Sum\"\n",
    "#     !kaggle competitions submit -c ga-customer-revenue-prediction -f 'submission_1541472139.7219512.csv' -m \"Sum of Log\""
   ]
  },
  {
   "cell_type": "markdown",
   "metadata": {},
   "source": [
    "# Analysis"
   ]
  },
  {
   "cell_type": "code",
   "execution_count": 76,
   "metadata": {},
   "outputs": [],
   "source": [
    "def plot_fi(m, df1, n_feat):\n",
    "    return rf_feat_importance(m, df1)[:n_feat].plot('cols', 'imp', 'barh', figsize=(15,20), legend=False)"
   ]
  },
  {
   "cell_type": "code",
   "execution_count": 77,
   "metadata": {},
   "outputs": [
    {
     "data": {
      "image/png": "[encoded data removed]",
      "text/plain": [
       "<Figure size 1080x1440 with 1 Axes>"
      ]
     },
     "metadata": {},
     "output_type": "display_data"
    }
   ],
   "source": [
    "plot_fi(m, df1, 20);"
   ]
  },
  {
   "cell_type": "code",
   "execution_count": null,
   "metadata": {
    "scrolled": true
   },
   "outputs": [],
   "source": [
    "keep = rf_feat_importance(m, df1)[:30]\n",
    "keep = list(keep.cols)\n",
    "# keep.append('transactionRevenue')\n",
    "df1 = df1[keep]\n",
    "keep"
   ]
  },
  {
   "cell_type": "code",
   "execution_count": null,
   "metadata": {
    "scrolled": true
   },
   "outputs": [],
   "source": [
    "to_test = ['hits', 'pageviews', 'visitStartTimeMonth', 'visitStartTimeWeek',\n",
    "       'visitStartTimeDay', 'visitStartTimeDayofweek',\n",
    "       'visitStartTimeDayofyear', 'visitStartTimeHour']\n",
    "\n",
    "for each in to_test:\n",
    "    fields = [each, 'transactionRevenue']\n",
    "    summary = df[fields].groupby(each, as_index=True).mean()\n",
    "    summary.plot(figsize=(10,4), title=each);\n",
    "    summary = df[fields].groupby(each, as_index=True).sum()\n",
    "    summary.plot(figsize=(10,4));"
   ]
  }
 ],
 "metadata": {
  "celltoolbar": "Raw Cell Format",
  "kernelspec": {
   "display_name": "Python 3",
   "language": "python",
   "name": "python3"
  },
  "language_info": {
   "codemirror_mode": {
    "name": "ipython",
    "version": 3
   },
   "file_extension": ".py",
   "mimetype": "text/x-python",
   "name": "python",
   "nbconvert_exporter": "python",
   "pygments_lexer": "ipython3",
   "version": "3.7.2"
  },
  "notify_time": "30"
 },
 "nbformat": 4,
 "nbformat_minor": 2
}
